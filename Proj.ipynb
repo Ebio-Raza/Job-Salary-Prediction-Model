{
 "cells": [
  {
   "cell_type": "markdown",
   "metadata": {},
   "source": [
    "#### *Installing and Importing Libraries*"
   ]
  },
  {
   "cell_type": "code",
   "execution_count": null,
   "metadata": {},
   "outputs": [],
   "source": [
    "import pandas as pd\n",
    "import seaborn as sns\n",
    "import matplotlib.pyplot as plt\n",
    "from sklearn.preprocessing import MinMaxScaler\n",
    "from sklearn.preprocessing import LabelEncoder\n",
    "from scipy.stats import chi2_contingency\n",
    "import re\n",
    "import numpy as np\n",
    "from sklearn.preprocessing import MultiLabelBinarizer"
   ]
  },
  {
   "cell_type": "code",
   "execution_count": 2,
   "metadata": {},
   "outputs": [],
   "source": [
    "le = LabelEncoder()\n",
    "mlb = MultiLabelBinarizer()"
   ]
  },
  {
   "cell_type": "markdown",
   "metadata": {},
   "source": [
    "## ***1 - Data Loading***"
   ]
  },
  {
   "cell_type": "code",
   "execution_count": 3,
   "metadata": {},
   "outputs": [],
   "source": [
    "job_salary_df = pd.read_csv('Job_Salary_Prediction_Dataset.csv')"
   ]
  },
  {
   "cell_type": "markdown",
   "metadata": {},
   "source": [
    "## ***2 - Data Overview Exploration***"
   ]
  },
  {
   "cell_type": "markdown",
   "metadata": {},
   "source": [
    "#### *Displaying First Fifteen Rows*"
   ]
  },
  {
   "cell_type": "code",
   "execution_count": 4,
   "metadata": {},
   "outputs": [
    {
     "data": {
      "text/html": [
       "<div>\n",
       "<style scoped>\n",
       "    .dataframe tbody tr th:only-of-type {\n",
       "        vertical-align: middle;\n",
       "    }\n",
       "\n",
       "    .dataframe tbody tr th {\n",
       "        vertical-align: top;\n",
       "    }\n",
       "\n",
       "    .dataframe thead th {\n",
       "        text-align: right;\n",
       "    }\n",
       "</style>\n",
       "<table border=\"1\" class=\"dataframe\">\n",
       "  <thead>\n",
       "    <tr style=\"text-align: right;\">\n",
       "      <th></th>\n",
       "      <th>Job Id</th>\n",
       "      <th>Experience</th>\n",
       "      <th>Qualifications</th>\n",
       "      <th>Salary Range</th>\n",
       "      <th>location</th>\n",
       "      <th>Country</th>\n",
       "      <th>Work Type</th>\n",
       "      <th>Company Size</th>\n",
       "      <th>Job Posting Date</th>\n",
       "      <th>Preference</th>\n",
       "      <th>Job Title</th>\n",
       "      <th>Role</th>\n",
       "      <th>Job Description</th>\n",
       "      <th>Benefits</th>\n",
       "      <th>skills</th>\n",
       "      <th>Responsibilities</th>\n",
       "      <th>Company</th>\n",
       "    </tr>\n",
       "  </thead>\n",
       "  <tbody>\n",
       "    <tr>\n",
       "      <th>0</th>\n",
       "      <td>1.089840e+15</td>\n",
       "      <td>5 to 15 Years</td>\n",
       "      <td>M.Tech</td>\n",
       "      <td>$59K-$99K</td>\n",
       "      <td>Douglas</td>\n",
       "      <td>Isle of Man</td>\n",
       "      <td>Intern</td>\n",
       "      <td>26801</td>\n",
       "      <td>4/24/2022</td>\n",
       "      <td>Female</td>\n",
       "      <td>Digital Marketing Specialist</td>\n",
       "      <td>Social Media Manager</td>\n",
       "      <td>Social Media Managers oversee an organizations...</td>\n",
       "      <td>{'Flexible Spending Accounts (FSAs), Relocatio...</td>\n",
       "      <td>Social media platforms (e.g., Facebook, Twitte...</td>\n",
       "      <td>Manage and grow social media accounts, create ...</td>\n",
       "      <td>Icahn Enterprises</td>\n",
       "    </tr>\n",
       "    <tr>\n",
       "      <th>1</th>\n",
       "      <td>3.984540e+14</td>\n",
       "      <td>2 to 12 Years</td>\n",
       "      <td>BCA</td>\n",
       "      <td>$56K-$116K</td>\n",
       "      <td>Ashgabat</td>\n",
       "      <td>Turkmenistan</td>\n",
       "      <td>Intern</td>\n",
       "      <td>100340</td>\n",
       "      <td>12/19/2022</td>\n",
       "      <td>Female</td>\n",
       "      <td>Web Developer</td>\n",
       "      <td>Frontend Web Developer</td>\n",
       "      <td>Frontend Web Developers design and implement u...</td>\n",
       "      <td>{'Health Insurance, Retirement Plans, Paid Tim...</td>\n",
       "      <td>HTML, CSS, JavaScript Frontend frameworks (e.g...</td>\n",
       "      <td>Design and code user interfaces for websites, ...</td>\n",
       "      <td>PNC Financial Services Group</td>\n",
       "    </tr>\n",
       "    <tr>\n",
       "      <th>2</th>\n",
       "      <td>4.816400e+14</td>\n",
       "      <td>0 to 12 Years</td>\n",
       "      <td>PhD</td>\n",
       "      <td>$61K-$104K</td>\n",
       "      <td>Macao</td>\n",
       "      <td>Macao SAR, China</td>\n",
       "      <td>Temporary</td>\n",
       "      <td>84525</td>\n",
       "      <td>9/14/2022</td>\n",
       "      <td>Male</td>\n",
       "      <td>Operations Manager</td>\n",
       "      <td>Quality Control Manager</td>\n",
       "      <td>Quality Control Managers establish and enforce...</td>\n",
       "      <td>{'Legal Assistance, Bonuses and Incentive Prog...</td>\n",
       "      <td>Quality control processes and methodologies St...</td>\n",
       "      <td>Establish and enforce quality control standard...</td>\n",
       "      <td>United Services Automobile Assn.</td>\n",
       "    </tr>\n",
       "    <tr>\n",
       "      <th>3</th>\n",
       "      <td>6.881930e+14</td>\n",
       "      <td>4 to 11 Years</td>\n",
       "      <td>PhD</td>\n",
       "      <td>$65K-$91K</td>\n",
       "      <td>Porto-Novo</td>\n",
       "      <td>Benin</td>\n",
       "      <td>Full-Time</td>\n",
       "      <td>129896</td>\n",
       "      <td>2/25/2023</td>\n",
       "      <td>Female</td>\n",
       "      <td>Network Engineer</td>\n",
       "      <td>Wireless Network Engineer</td>\n",
       "      <td>Wireless Network Engineers design, implement, ...</td>\n",
       "      <td>{'Transportation Benefits, Professional Develo...</td>\n",
       "      <td>Wireless network design and architecture Wi-Fi...</td>\n",
       "      <td>Design, configure, and optimize wireless netwo...</td>\n",
       "      <td>Hess</td>\n",
       "    </tr>\n",
       "    <tr>\n",
       "      <th>4</th>\n",
       "      <td>1.170580e+14</td>\n",
       "      <td>1 to 12 Years</td>\n",
       "      <td>MBA</td>\n",
       "      <td>$64K-$87K</td>\n",
       "      <td>Santiago</td>\n",
       "      <td>Chile</td>\n",
       "      <td>Intern</td>\n",
       "      <td>53944</td>\n",
       "      <td>10/11/2022</td>\n",
       "      <td>Female</td>\n",
       "      <td>Event Manager</td>\n",
       "      <td>Conference Manager</td>\n",
       "      <td>A Conference Manager coordinates and manages c...</td>\n",
       "      <td>{'Flexible Spending Accounts (FSAs), Relocatio...</td>\n",
       "      <td>Event planning Conference logistics Budget man...</td>\n",
       "      <td>Specialize in conference and convention planni...</td>\n",
       "      <td>Cairn Energy</td>\n",
       "    </tr>\n",
       "    <tr>\n",
       "      <th>5</th>\n",
       "      <td>1.168310e+14</td>\n",
       "      <td>4 to 12 Years</td>\n",
       "      <td>MCA</td>\n",
       "      <td>$59K-$93K</td>\n",
       "      <td>Brussels</td>\n",
       "      <td>Belgium</td>\n",
       "      <td>Full-Time</td>\n",
       "      <td>23196</td>\n",
       "      <td>7/25/2023</td>\n",
       "      <td>Male</td>\n",
       "      <td>Software Tester</td>\n",
       "      <td>Quality Assurance Analyst</td>\n",
       "      <td>A Quality Assurance Analyst tests software and...</td>\n",
       "      <td>{'Life and Disability Insurance, Stock Options...</td>\n",
       "      <td>Quality assurance processes Testing methodolog...</td>\n",
       "      <td>Test software applications and systems to iden...</td>\n",
       "      <td>Adani Ports and Special Economic Zone</td>\n",
       "    </tr>\n",
       "    <tr>\n",
       "      <th>6</th>\n",
       "      <td>1.292170e+15</td>\n",
       "      <td>3 to 15 Years</td>\n",
       "      <td>PhD</td>\n",
       "      <td>$63K-$103K</td>\n",
       "      <td>George Town</td>\n",
       "      <td>Cayman Islands</td>\n",
       "      <td>Temporary</td>\n",
       "      <td>26119</td>\n",
       "      <td>4/10/2023</td>\n",
       "      <td>Both</td>\n",
       "      <td>Teacher</td>\n",
       "      <td>Classroom Teacher</td>\n",
       "      <td>A Classroom Teacher educates students in a spe...</td>\n",
       "      <td>{'Flexible Spending Accounts (FSAs), Relocatio...</td>\n",
       "      <td>Teaching pedagogy Classroom management Curricu...</td>\n",
       "      <td>Plan and deliver engaging lessons, adapting te...</td>\n",
       "      <td>FedEx</td>\n",
       "    </tr>\n",
       "    <tr>\n",
       "      <th>7</th>\n",
       "      <td>1.498780e+15</td>\n",
       "      <td>2 to 8 Years</td>\n",
       "      <td>M.Com</td>\n",
       "      <td>$65K-$102K</td>\n",
       "      <td>SÃ£o TomÃ©</td>\n",
       "      <td>Sao Tome and Principe</td>\n",
       "      <td>Contract</td>\n",
       "      <td>40558</td>\n",
       "      <td>9/20/2022</td>\n",
       "      <td>Female</td>\n",
       "      <td>UX/UI Designer</td>\n",
       "      <td>User Interface Designer</td>\n",
       "      <td>User Interface Designers focus on the visual a...</td>\n",
       "      <td>{'Employee Assistance Programs (EAP), Tuition ...</td>\n",
       "      <td>UI design principles and best practices Graphi...</td>\n",
       "      <td>Create visually appealing user interfaces (UI)...</td>\n",
       "      <td>Ryder System</td>\n",
       "    </tr>\n",
       "    <tr>\n",
       "      <th>8</th>\n",
       "      <td>1.680290e+15</td>\n",
       "      <td>2 to 9 Years</td>\n",
       "      <td>BBA</td>\n",
       "      <td>$65K-$102K</td>\n",
       "      <td>Male</td>\n",
       "      <td>Maldives</td>\n",
       "      <td>Temporary</td>\n",
       "      <td>105343</td>\n",
       "      <td>2/19/2022</td>\n",
       "      <td>Female</td>\n",
       "      <td>UX/UI Designer</td>\n",
       "      <td>Interaction Designer</td>\n",
       "      <td>Interaction Designers specialize in designing ...</td>\n",
       "      <td>{'Transportation Benefits, Professional Develo...</td>\n",
       "      <td>Interaction design principles User behavior an...</td>\n",
       "      <td>Work on interaction design, defining how users...</td>\n",
       "      <td>Zee Entertainment Enterprises</td>\n",
       "    </tr>\n",
       "    <tr>\n",
       "      <th>9</th>\n",
       "      <td>2.556280e+14</td>\n",
       "      <td>1 to 10 Years</td>\n",
       "      <td>BBA</td>\n",
       "      <td>$60K-$80K</td>\n",
       "      <td>Saint John's</td>\n",
       "      <td>Antigua and Barbuda</td>\n",
       "      <td>Full-Time</td>\n",
       "      <td>102069</td>\n",
       "      <td>5/13/2022</td>\n",
       "      <td>Both</td>\n",
       "      <td>Wedding Planner</td>\n",
       "      <td>Wedding Consultant</td>\n",
       "      <td>A Wedding Consultant assists couples in planni...</td>\n",
       "      <td>{'Legal Assistance, Bonuses and Incentive Prog...</td>\n",
       "      <td>Wedding planning Vendor coordination Event man...</td>\n",
       "      <td>Offer expert advice and guidance to couples pl...</td>\n",
       "      <td>CSX</td>\n",
       "    </tr>\n",
       "    <tr>\n",
       "      <th>10</th>\n",
       "      <td>2.696960e+15</td>\n",
       "      <td>3 to 10 Years</td>\n",
       "      <td>BCA</td>\n",
       "      <td>$57K-$104K</td>\n",
       "      <td>Manama</td>\n",
       "      <td>Bahrain</td>\n",
       "      <td>Contract</td>\n",
       "      <td>130338</td>\n",
       "      <td>7/1/2023</td>\n",
       "      <td>Female</td>\n",
       "      <td>QA Analyst</td>\n",
       "      <td>Performance Testing Specialist</td>\n",
       "      <td>Performance Testing Specialists assess the per...</td>\n",
       "      <td>{'Flexible Spending Accounts (FSAs), Relocatio...</td>\n",
       "      <td>Performance testing Load testing Stress testin...</td>\n",
       "      <td>Focus on performance and load testing to asses...</td>\n",
       "      <td>McDonald's</td>\n",
       "    </tr>\n",
       "    <tr>\n",
       "      <th>11</th>\n",
       "      <td>1.446190e+15</td>\n",
       "      <td>4 to 12 Years</td>\n",
       "      <td>B.Tech</td>\n",
       "      <td>$64K-$98K</td>\n",
       "      <td>The City of Hamilton</td>\n",
       "      <td>Bermuda</td>\n",
       "      <td>Contract</td>\n",
       "      <td>117285</td>\n",
       "      <td>10/11/2021</td>\n",
       "      <td>Male</td>\n",
       "      <td>Litigation Attorney</td>\n",
       "      <td>Family Law Attorney</td>\n",
       "      <td>Family Law Attorneys deal with legal matters r...</td>\n",
       "      <td>{'Employee Referral Programs, Financial Counse...</td>\n",
       "      <td>Family law Divorce proceedings Child custody M...</td>\n",
       "      <td>Specialize in family law matters, such as divo...</td>\n",
       "      <td>TPG Telecom</td>\n",
       "    </tr>\n",
       "    <tr>\n",
       "      <th>12</th>\n",
       "      <td>1.914120e+15</td>\n",
       "      <td>3 to 15 Years</td>\n",
       "      <td>MCA</td>\n",
       "      <td>$65K-$122K</td>\n",
       "      <td>Kingston</td>\n",
       "      <td>Jamaica</td>\n",
       "      <td>Part-Time</td>\n",
       "      <td>79071</td>\n",
       "      <td>1/17/2022</td>\n",
       "      <td>Both</td>\n",
       "      <td>Mechanical Engineer</td>\n",
       "      <td>Mechanical Design Engineer</td>\n",
       "      <td>Mechanical Design Engineers create and develop...</td>\n",
       "      <td>{'Tuition Reimbursement, Stock Options or Equi...</td>\n",
       "      <td>Mechanical engineering CAD software (e.g., Sol...</td>\n",
       "      <td>Design mechanical systems, components, and pro...</td>\n",
       "      <td>ThyssenKrupp AG</td>\n",
       "    </tr>\n",
       "    <tr>\n",
       "      <th>13</th>\n",
       "      <td>2.907620e+14</td>\n",
       "      <td>1 to 8 Years</td>\n",
       "      <td>B.Com</td>\n",
       "      <td>$56K-$86K</td>\n",
       "      <td>Banjul</td>\n",
       "      <td>Gambia</td>\n",
       "      <td>Temporary</td>\n",
       "      <td>127900</td>\n",
       "      <td>5/24/2022</td>\n",
       "      <td>Female</td>\n",
       "      <td>Network Administrator</td>\n",
       "      <td>Network Security Analyst</td>\n",
       "      <td>Protect an organizations computer networks and...</td>\n",
       "      <td>{'Legal Assistance, Bonuses and Incentive Prog...</td>\n",
       "      <td>Network security protocols Intrusion detection...</td>\n",
       "      <td>Manage and secure computer networks, including...</td>\n",
       "      <td>EnLink Midstream</td>\n",
       "    </tr>\n",
       "    <tr>\n",
       "      <th>14</th>\n",
       "      <td>1.627540e+15</td>\n",
       "      <td>1 to 9 Years</td>\n",
       "      <td>MCA</td>\n",
       "      <td>$57K-$98K</td>\n",
       "      <td>Damascus</td>\n",
       "      <td>Syrian Arab Republic</td>\n",
       "      <td>Full-Time</td>\n",
       "      <td>92128</td>\n",
       "      <td>3/1/2022</td>\n",
       "      <td>Male</td>\n",
       "      <td>Account Manager</td>\n",
       "      <td>Sales Account Manager</td>\n",
       "      <td>A Sales Account Manager is responsible for bui...</td>\n",
       "      <td>{'Casual Dress Code, Social and Recreational A...</td>\n",
       "      <td>Account management Sales strategy Negotiation ...</td>\n",
       "      <td>Manage sales accounts and ensure revenue growt...</td>\n",
       "      <td>NGL Energy Partners</td>\n",
       "    </tr>\n",
       "  </tbody>\n",
       "</table>\n",
       "</div>"
      ],
      "text/plain": [
       "          Job Id     Experience Qualifications Salary Range  \\\n",
       "0   1.089840e+15  5 to 15 Years         M.Tech    $59K-$99K   \n",
       "1   3.984540e+14  2 to 12 Years            BCA   $56K-$116K   \n",
       "2   4.816400e+14  0 to 12 Years            PhD   $61K-$104K   \n",
       "3   6.881930e+14  4 to 11 Years            PhD    $65K-$91K   \n",
       "4   1.170580e+14  1 to 12 Years            MBA    $64K-$87K   \n",
       "5   1.168310e+14  4 to 12 Years            MCA    $59K-$93K   \n",
       "6   1.292170e+15  3 to 15 Years            PhD   $63K-$103K   \n",
       "7   1.498780e+15   2 to 8 Years          M.Com   $65K-$102K   \n",
       "8   1.680290e+15   2 to 9 Years            BBA   $65K-$102K   \n",
       "9   2.556280e+14  1 to 10 Years            BBA    $60K-$80K   \n",
       "10  2.696960e+15  3 to 10 Years            BCA   $57K-$104K   \n",
       "11  1.446190e+15  4 to 12 Years         B.Tech    $64K-$98K   \n",
       "12  1.914120e+15  3 to 15 Years            MCA   $65K-$122K   \n",
       "13  2.907620e+14   1 to 8 Years          B.Com    $56K-$86K   \n",
       "14  1.627540e+15   1 to 9 Years            MCA    $57K-$98K   \n",
       "\n",
       "                location                Country  Work Type  Company Size  \\\n",
       "0                Douglas            Isle of Man     Intern         26801   \n",
       "1               Ashgabat           Turkmenistan     Intern        100340   \n",
       "2                  Macao       Macao SAR, China  Temporary         84525   \n",
       "3             Porto-Novo                  Benin  Full-Time        129896   \n",
       "4               Santiago                  Chile     Intern         53944   \n",
       "5               Brussels                Belgium  Full-Time         23196   \n",
       "6            George Town         Cayman Islands  Temporary         26119   \n",
       "7             SÃ£o TomÃ©  Sao Tome and Principe   Contract         40558   \n",
       "8                   Male               Maldives  Temporary        105343   \n",
       "9           Saint John's    Antigua and Barbuda  Full-Time        102069   \n",
       "10                Manama                Bahrain   Contract        130338   \n",
       "11  The City of Hamilton                Bermuda   Contract        117285   \n",
       "12              Kingston                Jamaica  Part-Time         79071   \n",
       "13                Banjul                 Gambia  Temporary        127900   \n",
       "14              Damascus   Syrian Arab Republic  Full-Time         92128   \n",
       "\n",
       "   Job Posting Date Preference                     Job Title  \\\n",
       "0         4/24/2022     Female  Digital Marketing Specialist   \n",
       "1        12/19/2022     Female                 Web Developer   \n",
       "2         9/14/2022       Male            Operations Manager   \n",
       "3         2/25/2023     Female              Network Engineer   \n",
       "4        10/11/2022     Female                 Event Manager   \n",
       "5         7/25/2023       Male               Software Tester   \n",
       "6         4/10/2023       Both                       Teacher   \n",
       "7         9/20/2022     Female                UX/UI Designer   \n",
       "8         2/19/2022     Female                UX/UI Designer   \n",
       "9         5/13/2022       Both               Wedding Planner   \n",
       "10         7/1/2023     Female                    QA Analyst   \n",
       "11       10/11/2021       Male           Litigation Attorney   \n",
       "12        1/17/2022       Both           Mechanical Engineer   \n",
       "13        5/24/2022     Female         Network Administrator   \n",
       "14         3/1/2022       Male               Account Manager   \n",
       "\n",
       "                              Role  \\\n",
       "0             Social Media Manager   \n",
       "1           Frontend Web Developer   \n",
       "2          Quality Control Manager   \n",
       "3        Wireless Network Engineer   \n",
       "4               Conference Manager   \n",
       "5        Quality Assurance Analyst   \n",
       "6                Classroom Teacher   \n",
       "7          User Interface Designer   \n",
       "8             Interaction Designer   \n",
       "9               Wedding Consultant   \n",
       "10  Performance Testing Specialist   \n",
       "11             Family Law Attorney   \n",
       "12      Mechanical Design Engineer   \n",
       "13        Network Security Analyst   \n",
       "14           Sales Account Manager   \n",
       "\n",
       "                                      Job Description  \\\n",
       "0   Social Media Managers oversee an organizations...   \n",
       "1   Frontend Web Developers design and implement u...   \n",
       "2   Quality Control Managers establish and enforce...   \n",
       "3   Wireless Network Engineers design, implement, ...   \n",
       "4   A Conference Manager coordinates and manages c...   \n",
       "5   A Quality Assurance Analyst tests software and...   \n",
       "6   A Classroom Teacher educates students in a spe...   \n",
       "7   User Interface Designers focus on the visual a...   \n",
       "8   Interaction Designers specialize in designing ...   \n",
       "9   A Wedding Consultant assists couples in planni...   \n",
       "10  Performance Testing Specialists assess the per...   \n",
       "11  Family Law Attorneys deal with legal matters r...   \n",
       "12  Mechanical Design Engineers create and develop...   \n",
       "13  Protect an organizations computer networks and...   \n",
       "14  A Sales Account Manager is responsible for bui...   \n",
       "\n",
       "                                             Benefits  \\\n",
       "0   {'Flexible Spending Accounts (FSAs), Relocatio...   \n",
       "1   {'Health Insurance, Retirement Plans, Paid Tim...   \n",
       "2   {'Legal Assistance, Bonuses and Incentive Prog...   \n",
       "3   {'Transportation Benefits, Professional Develo...   \n",
       "4   {'Flexible Spending Accounts (FSAs), Relocatio...   \n",
       "5   {'Life and Disability Insurance, Stock Options...   \n",
       "6   {'Flexible Spending Accounts (FSAs), Relocatio...   \n",
       "7   {'Employee Assistance Programs (EAP), Tuition ...   \n",
       "8   {'Transportation Benefits, Professional Develo...   \n",
       "9   {'Legal Assistance, Bonuses and Incentive Prog...   \n",
       "10  {'Flexible Spending Accounts (FSAs), Relocatio...   \n",
       "11  {'Employee Referral Programs, Financial Counse...   \n",
       "12  {'Tuition Reimbursement, Stock Options or Equi...   \n",
       "13  {'Legal Assistance, Bonuses and Incentive Prog...   \n",
       "14  {'Casual Dress Code, Social and Recreational A...   \n",
       "\n",
       "                                               skills  \\\n",
       "0   Social media platforms (e.g., Facebook, Twitte...   \n",
       "1   HTML, CSS, JavaScript Frontend frameworks (e.g...   \n",
       "2   Quality control processes and methodologies St...   \n",
       "3   Wireless network design and architecture Wi-Fi...   \n",
       "4   Event planning Conference logistics Budget man...   \n",
       "5   Quality assurance processes Testing methodolog...   \n",
       "6   Teaching pedagogy Classroom management Curricu...   \n",
       "7   UI design principles and best practices Graphi...   \n",
       "8   Interaction design principles User behavior an...   \n",
       "9   Wedding planning Vendor coordination Event man...   \n",
       "10  Performance testing Load testing Stress testin...   \n",
       "11  Family law Divorce proceedings Child custody M...   \n",
       "12  Mechanical engineering CAD software (e.g., Sol...   \n",
       "13  Network security protocols Intrusion detection...   \n",
       "14  Account management Sales strategy Negotiation ...   \n",
       "\n",
       "                                     Responsibilities  \\\n",
       "0   Manage and grow social media accounts, create ...   \n",
       "1   Design and code user interfaces for websites, ...   \n",
       "2   Establish and enforce quality control standard...   \n",
       "3   Design, configure, and optimize wireless netwo...   \n",
       "4   Specialize in conference and convention planni...   \n",
       "5   Test software applications and systems to iden...   \n",
       "6   Plan and deliver engaging lessons, adapting te...   \n",
       "7   Create visually appealing user interfaces (UI)...   \n",
       "8   Work on interaction design, defining how users...   \n",
       "9   Offer expert advice and guidance to couples pl...   \n",
       "10  Focus on performance and load testing to asses...   \n",
       "11  Specialize in family law matters, such as divo...   \n",
       "12  Design mechanical systems, components, and pro...   \n",
       "13  Manage and secure computer networks, including...   \n",
       "14  Manage sales accounts and ensure revenue growt...   \n",
       "\n",
       "                                  Company  \n",
       "0                       Icahn Enterprises  \n",
       "1            PNC Financial Services Group  \n",
       "2        United Services Automobile Assn.  \n",
       "3                                    Hess  \n",
       "4                            Cairn Energy  \n",
       "5   Adani Ports and Special Economic Zone  \n",
       "6                                   FedEx  \n",
       "7                            Ryder System  \n",
       "8           Zee Entertainment Enterprises  \n",
       "9                                     CSX  \n",
       "10                             McDonald's  \n",
       "11                            TPG Telecom  \n",
       "12                        ThyssenKrupp AG  \n",
       "13                       EnLink Midstream  \n",
       "14                    NGL Energy Partners  "
      ]
     },
     "execution_count": 4,
     "metadata": {},
     "output_type": "execute_result"
    }
   ],
   "source": [
    "job_salary_df.head(15)"
   ]
  },
  {
   "cell_type": "markdown",
   "metadata": {},
   "source": [
    "#### *Displaying No. of Rows and Columns*"
   ]
  },
  {
   "cell_type": "code",
   "execution_count": 5,
   "metadata": {},
   "outputs": [
    {
     "name": "stdout",
     "output_type": "stream",
     "text": [
      "Rows: 1048575, Columns: 17\n"
     ]
    }
   ],
   "source": [
    "print(f\"Rows: {job_salary_df.shape[0]}, Columns: {job_salary_df.shape[1]}\")"
   ]
  },
  {
   "cell_type": "markdown",
   "metadata": {},
   "source": [
    "#### *Displaying Summary of Non-Missing Values and Data Types of Columns*"
   ]
  },
  {
   "cell_type": "code",
   "execution_count": 6,
   "metadata": {},
   "outputs": [
    {
     "name": "stdout",
     "output_type": "stream",
     "text": [
      "<class 'pandas.core.frame.DataFrame'>\n",
      "RangeIndex: 1048575 entries, 0 to 1048574\n",
      "Data columns (total 17 columns):\n",
      " #   Column            Non-Null Count    Dtype  \n",
      "---  ------            --------------    -----  \n",
      " 0   Job Id            1048575 non-null  float64\n",
      " 1   Experience        1048575 non-null  object \n",
      " 2   Qualifications    1048575 non-null  object \n",
      " 3   Salary Range      1048575 non-null  object \n",
      " 4   location          1048575 non-null  object \n",
      " 5   Country           1048575 non-null  object \n",
      " 6   Work Type         1048575 non-null  object \n",
      " 7   Company Size      1048575 non-null  int64  \n",
      " 8   Job Posting Date  1048575 non-null  object \n",
      " 9   Preference        1048575 non-null  object \n",
      " 10  Job Title         1048575 non-null  object \n",
      " 11  Role              1048575 non-null  object \n",
      " 12  Job Description   1048575 non-null  object \n",
      " 13  Benefits          1048575 non-null  object \n",
      " 14  skills            1048575 non-null  object \n",
      " 15  Responsibilities  1048575 non-null  object \n",
      " 16  Company           1048575 non-null  object \n",
      "dtypes: float64(1), int64(1), object(15)\n",
      "memory usage: 136.0+ MB\n"
     ]
    }
   ],
   "source": [
    "job_salary_df.info()"
   ]
  },
  {
   "cell_type": "markdown",
   "metadata": {},
   "source": [
    "#### *Displaying Summary Statistics of Numerical Columns*"
   ]
  },
  {
   "cell_type": "code",
   "execution_count": 7,
   "metadata": {},
   "outputs": [
    {
     "data": {
      "text/html": [
       "<div>\n",
       "<style scoped>\n",
       "    .dataframe tbody tr th:only-of-type {\n",
       "        vertical-align: middle;\n",
       "    }\n",
       "\n",
       "    .dataframe tbody tr th {\n",
       "        vertical-align: top;\n",
       "    }\n",
       "\n",
       "    .dataframe thead th {\n",
       "        text-align: right;\n",
       "    }\n",
       "</style>\n",
       "<table border=\"1\" class=\"dataframe\">\n",
       "  <thead>\n",
       "    <tr style=\"text-align: right;\">\n",
       "      <th></th>\n",
       "      <th>Job Id</th>\n",
       "      <th>Company Size</th>\n",
       "    </tr>\n",
       "  </thead>\n",
       "  <tbody>\n",
       "    <tr>\n",
       "      <th>count</th>\n",
       "      <td>1.048575e+06</td>\n",
       "      <td>1.048575e+06</td>\n",
       "    </tr>\n",
       "    <tr>\n",
       "      <th>mean</th>\n",
       "      <td>1.549784e+15</td>\n",
       "      <td>7.370591e+04</td>\n",
       "    </tr>\n",
       "    <tr>\n",
       "      <th>std</th>\n",
       "      <td>8.948046e+14</td>\n",
       "      <td>3.530437e+04</td>\n",
       "    </tr>\n",
       "    <tr>\n",
       "      <th>min</th>\n",
       "      <td>1.817950e+11</td>\n",
       "      <td>1.264600e+04</td>\n",
       "    </tr>\n",
       "    <tr>\n",
       "      <th>25%</th>\n",
       "      <td>7.746125e+14</td>\n",
       "      <td>4.312100e+04</td>\n",
       "    </tr>\n",
       "    <tr>\n",
       "      <th>50%</th>\n",
       "      <td>1.549470e+15</td>\n",
       "      <td>7.364100e+04</td>\n",
       "    </tr>\n",
       "    <tr>\n",
       "      <th>75%</th>\n",
       "      <td>2.325065e+15</td>\n",
       "      <td>1.043175e+05</td>\n",
       "    </tr>\n",
       "    <tr>\n",
       "      <th>max</th>\n",
       "      <td>3.099620e+15</td>\n",
       "      <td>1.348340e+05</td>\n",
       "    </tr>\n",
       "  </tbody>\n",
       "</table>\n",
       "</div>"
      ],
      "text/plain": [
       "             Job Id  Company Size\n",
       "count  1.048575e+06  1.048575e+06\n",
       "mean   1.549784e+15  7.370591e+04\n",
       "std    8.948046e+14  3.530437e+04\n",
       "min    1.817950e+11  1.264600e+04\n",
       "25%    7.746125e+14  4.312100e+04\n",
       "50%    1.549470e+15  7.364100e+04\n",
       "75%    2.325065e+15  1.043175e+05\n",
       "max    3.099620e+15  1.348340e+05"
      ]
     },
     "execution_count": 7,
     "metadata": {},
     "output_type": "execute_result"
    }
   ],
   "source": [
    "job_salary_df.describe()"
   ]
  },
  {
   "cell_type": "markdown",
   "metadata": {},
   "source": [
    "## ***3 - Data Cleaning***"
   ]
  },
  {
   "cell_type": "markdown",
   "metadata": {},
   "source": [
    "### ***Feature Selection - Dropping Unnecssary Columns***"
   ]
  },
  {
   "cell_type": "markdown",
   "metadata": {},
   "source": [
    "#### *Dropping Job ID*\n",
    "\n",
    "#### *Reasons*\n",
    "* It Has No Predictive Value\n",
    "* It Can Mislead the Model"
   ]
  },
  {
   "cell_type": "code",
   "execution_count": 8,
   "metadata": {},
   "outputs": [],
   "source": [
    "job_salary_df.drop('Job Id', axis=1, inplace=True)"
   ]
  },
  {
   "cell_type": "markdown",
   "metadata": {},
   "source": [
    "#### *Dropping Job Description*\n",
    "\n",
    "#### *Reasons*\n",
    "* Contains Unstructured Textual Data \n",
    "* Job Description Column Contains Repititive and Generic Descriptions of Job Role\n",
    "* Each Distinct Role has Exactly One Corresponding Job Description\n",
    "* Job Description is a One-to-One textual Mapping of the Role Column\n",
    "* Job Description increase Noise & Complexity"
   ]
  },
  {
   "cell_type": "code",
   "execution_count": 9,
   "metadata": {},
   "outputs": [
    {
     "data": {
      "text/plain": [
       "376"
      ]
     },
     "execution_count": 9,
     "metadata": {},
     "output_type": "execute_result"
    }
   ],
   "source": [
    "job_salary_df[\"Role\"].nunique()"
   ]
  },
  {
   "cell_type": "code",
   "execution_count": 10,
   "metadata": {},
   "outputs": [
    {
     "name": "stdout",
     "output_type": "stream",
     "text": [
      "376\n"
     ]
    }
   ],
   "source": [
    "print((job_salary_df.groupby('Role')['Job Description'].nunique() == 1).sum())\n"
   ]
  },
  {
   "cell_type": "code",
   "execution_count": 11,
   "metadata": {},
   "outputs": [],
   "source": [
    "job_salary_df.drop('Job Description', axis=1, inplace=True)"
   ]
  },
  {
   "cell_type": "markdown",
   "metadata": {},
   "source": [
    "#### *Dropping Skills*\n",
    "\n",
    "#### *Reasons*\n",
    "* Contains Unstructured Textual Data \n",
    "* Skills Column Contains Generic Skills Related to Job Role\n",
    "* Each Distinct Role has Exactly One Corresponding Skills\n",
    "* Skills is a One-to-One textual Mapping of the Role Column\n",
    "* Skills increase Noise & Complexity"
   ]
  },
  {
   "cell_type": "code",
   "execution_count": 12,
   "metadata": {},
   "outputs": [
    {
     "data": {
      "text/plain": [
       "376"
      ]
     },
     "execution_count": 12,
     "metadata": {},
     "output_type": "execute_result"
    }
   ],
   "source": [
    "job_salary_df[\"Role\"].nunique()"
   ]
  },
  {
   "cell_type": "code",
   "execution_count": 13,
   "metadata": {},
   "outputs": [
    {
     "name": "stdout",
     "output_type": "stream",
     "text": [
      "376\n"
     ]
    }
   ],
   "source": [
    "print((job_salary_df.groupby('Role')['skills'].nunique() == 1).sum())"
   ]
  },
  {
   "cell_type": "code",
   "execution_count": 14,
   "metadata": {},
   "outputs": [],
   "source": [
    "job_salary_df.drop('skills', axis=1, inplace=True)"
   ]
  },
  {
   "cell_type": "markdown",
   "metadata": {},
   "source": [
    "#### *Dropping Responsibilities*\n",
    "\n",
    "#### *Reasons*\n",
    "* Contains Unstructured Textual Data \n",
    "* Responsibilities Column Contains Generic Responsibilities Information Related to Job Role\n",
    "* Each Distinct Role has Exactly One Corresponding Responsibility\n",
    "* Responsibilities is a One-to-One textual Mapping of the Role Column\n",
    "* Responsibilities increase Noise & Complexity"
   ]
  },
  {
   "cell_type": "code",
   "execution_count": 15,
   "metadata": {},
   "outputs": [
    {
     "data": {
      "text/plain": [
       "376"
      ]
     },
     "execution_count": 15,
     "metadata": {},
     "output_type": "execute_result"
    }
   ],
   "source": [
    "job_salary_df[\"Role\"].nunique()"
   ]
  },
  {
   "cell_type": "code",
   "execution_count": 16,
   "metadata": {},
   "outputs": [
    {
     "name": "stdout",
     "output_type": "stream",
     "text": [
      "376\n"
     ]
    }
   ],
   "source": [
    "print((job_salary_df.groupby('Role')['Responsibilities'].nunique() == 1).sum())"
   ]
  },
  {
   "cell_type": "code",
   "execution_count": 17,
   "metadata": {},
   "outputs": [],
   "source": [
    "job_salary_df.drop('Responsibilities', axis=1, inplace=True)"
   ]
  },
  {
   "cell_type": "markdown",
   "metadata": {},
   "source": [
    "### ***Handling Missing Values***"
   ]
  },
  {
   "cell_type": "markdown",
   "metadata": {},
   "source": [
    "#### *No Missing Value*"
   ]
  },
  {
   "cell_type": "code",
   "execution_count": 18,
   "metadata": {},
   "outputs": [
    {
     "data": {
      "text/plain": [
       "Experience          0\n",
       "Qualifications      0\n",
       "Salary Range        0\n",
       "location            0\n",
       "Country             0\n",
       "Work Type           0\n",
       "Company Size        0\n",
       "Job Posting Date    0\n",
       "Preference          0\n",
       "Job Title           0\n",
       "Role                0\n",
       "Benefits            0\n",
       "Company             0\n",
       "dtype: int64"
      ]
     },
     "execution_count": 18,
     "metadata": {},
     "output_type": "execute_result"
    }
   ],
   "source": [
    "job_salary_df.isnull().sum()"
   ]
  },
  {
   "cell_type": "markdown",
   "metadata": {},
   "source": [
    "### ***Handling Duplicate Enteries / Records***"
   ]
  },
  {
   "cell_type": "markdown",
   "metadata": {},
   "source": [
    "#### *No Duplicate Enteries / Records*"
   ]
  },
  {
   "cell_type": "code",
   "execution_count": 19,
   "metadata": {},
   "outputs": [
    {
     "name": "stdout",
     "output_type": "stream",
     "text": [
      "0\n"
     ]
    }
   ],
   "source": [
    "print(job_salary_df.duplicated().sum())"
   ]
  },
  {
   "cell_type": "markdown",
   "metadata": {},
   "source": [
    "## ***4 - Data Transformation***"
   ]
  },
  {
   "cell_type": "markdown",
   "metadata": {},
   "source": [
    "#### *Transforming Experience Column*\n",
    "#### *Details*\n",
    "* Transforming Experience Column into 2 Columns i.e. Min Experience and Max Experience\n",
    "* 1 to 5 Years -> Min Experience : 1 , Max Experience : 5\n",
    "#### *Reasons*\n",
    "* Numerical Format is Required for Model Training to Identify Patterns\n",
    "* Preserve Complete Information by Keeping Both Lower Bound and Upper Bound\n",
    "* Allows Model to Learn How Minimum and Maximum Experience Impact Salary Prediction  "
   ]
  },
  {
   "cell_type": "code",
   "execution_count": 20,
   "metadata": {},
   "outputs": [
    {
     "name": "stdout",
     "output_type": "stream",
     "text": [
      "['5 to 15 Years' '2 to 12 Years' '0 to 12 Years' '4 to 11 Years'\n",
      " '1 to 12 Years' '4 to 12 Years' '3 to 15 Years' '2 to 8 Years'\n",
      " '2 to 9 Years' '1 to 10 Years' '3 to 10 Years' '1 to 8 Years'\n",
      " '1 to 9 Years' '5 to 14 Years' '0 to 11 Years' '3 to 12 Years'\n",
      " '5 to 9 Years' '0 to 15 Years' '0 to 10 Years' '2 to 14 Years'\n",
      " '3 to 9 Years' '4 to 15 Years' '2 to 10 Years' '4 to 8 Years'\n",
      " '3 to 8 Years' '1 to 14 Years' '1 to 13 Years' '0 to 8 Years'\n",
      " '5 to 10 Years' '2 to 13 Years' '4 to 9 Years' '1 to 15 Years'\n",
      " '4 to 10 Years' '5 to 12 Years' '0 to 13 Years' '4 to 14 Years'\n",
      " '1 to 11 Years' '4 to 13 Years' '0 to 9 Years' '5 to 8 Years'\n",
      " '2 to 15 Years' '5 to 13 Years' '5 to 11 Years' '0 to 14 Years'\n",
      " '3 to 13 Years' '2 to 11 Years' '3 to 11 Years' '3 to 14 Years']\n"
     ]
    }
   ],
   "source": [
    "print(job_salary_df[\"Experience\"].unique())"
   ]
  },
  {
   "cell_type": "code",
   "execution_count": 21,
   "metadata": {},
   "outputs": [],
   "source": [
    "def transformExperience(exp):\n",
    "    numbers = list(map(int, re.findall(r'\\d+', exp)))\n",
    "    # Return minimum and maximum experience\n",
    "    return numbers[0], numbers[1]"
   ]
  },
  {
   "cell_type": "code",
   "execution_count": 22,
   "metadata": {},
   "outputs": [],
   "source": [
    "job_salary_df[['Min Experience', 'Max Experience']] = job_salary_df['Experience'].apply(\n",
    "    lambda x: pd.Series(transformExperience(x))\n",
    ")"
   ]
  },
  {
   "cell_type": "code",
   "execution_count": 23,
   "metadata": {},
   "outputs": [],
   "source": [
    "job_salary_df.drop('Experience', axis=1, inplace=True)"
   ]
  },
  {
   "cell_type": "markdown",
   "metadata": {},
   "source": [
    "#### *Transforming Salary Range Column*\n",
    "#### *Details*\n",
    "* Transforming Salary Range Column into Salary Column by Computing the Mean of Minimum and Maximum Salary Range \n",
    "#### *Reasons*\n",
    "* Simplifies Target Variable\n",
    "* Removes Ambiguity and Uncertainity During Model Training by Giving a Specific Learnable Value\n",
    "* Prevents Model Confusion by Providing a Single-Valued Target Variable\n",
    "* Minimize Overfitting"
   ]
  },
  {
   "cell_type": "code",
   "execution_count": 24,
   "metadata": {},
   "outputs": [
    {
     "name": "stdout",
     "output_type": "stream",
     "text": [
      "561\n"
     ]
    }
   ],
   "source": [
    "print(job_salary_df[\"Salary Range\"].nunique())"
   ]
  },
  {
   "cell_type": "code",
   "execution_count": 25,
   "metadata": {},
   "outputs": [],
   "source": [
    "job_salary_df[['min_salary', 'max_salary']] = job_salary_df['Salary Range']\\\n",
    "    .str.extract(r'\\$(\\d+)K-\\$(\\d+)K').astype(float)*1000"
   ]
  },
  {
   "cell_type": "code",
   "execution_count": 26,
   "metadata": {},
   "outputs": [],
   "source": [
    "job_salary_df['Salary'] = (job_salary_df['min_salary'] + job_salary_df['max_salary']) / 2"
   ]
  },
  {
   "cell_type": "code",
   "execution_count": 27,
   "metadata": {},
   "outputs": [],
   "source": [
    "job_salary_df.drop(columns=['Salary Range', 'min_salary', 'max_salary'], inplace=True)"
   ]
  },
  {
   "cell_type": "markdown",
   "metadata": {},
   "source": [
    "#### *Transforming Job Posting Date Column*\n",
    "#### *Details*\n",
    "* Transforming Job Posting Date Column is Transformed into 2 Columns : \n",
    "1.  Job Post Age (Days)\n",
    "2. Job Posting Year\n",
    "#### *Reasons*\n",
    "* Numeric Format for Models\n",
    "* Captures Market Trends and Time Relevance\n",
    "* Older Job Posts might offer Less Salaries\n",
    "* Job Post Age (Days) - Gives a Continuous Numeric Feature Showing How Old the Job Posting Is\n",
    "* Job Posting Year - Captures Year-Wise Hiring Patterns or Trends"
   ]
  },
  {
   "cell_type": "code",
   "execution_count": 28,
   "metadata": {},
   "outputs": [],
   "source": [
    "job_salary_df['Job Posting Date'] = pd.to_datetime(job_salary_df['Job Posting Date'])"
   ]
  },
  {
   "cell_type": "code",
   "execution_count": 29,
   "metadata": {},
   "outputs": [],
   "source": [
    "today = pd.to_datetime('today')\n",
    "job_salary_df['Job Post Age (Days)'] = (today - job_salary_df['Job Posting Date']).dt.days"
   ]
  },
  {
   "cell_type": "code",
   "execution_count": 30,
   "metadata": {},
   "outputs": [],
   "source": [
    "job_salary_df['Job Posting Year'] = job_salary_df['Job Posting Date'].dt.year\n"
   ]
  },
  {
   "cell_type": "code",
   "execution_count": 31,
   "metadata": {},
   "outputs": [],
   "source": [
    "job_salary_df.drop(columns=['Job Posting Date'], inplace=True)"
   ]
  },
  {
   "cell_type": "markdown",
   "metadata": {},
   "source": [
    "#### *Combining Location and Country*\n",
    "#### *Details*\n",
    "* Combining Location Column and Country Column into Location Column\n",
    "\n",
    "#### *Reasons*\n",
    "* Location Captures Complete Specific Location Information in One Signal\n",
    "* Directly Captures the Relationship Between Geographic Location and Salary\n",
    "* Reduces Noise & Redundancy"
   ]
  },
  {
   "cell_type": "code",
   "execution_count": 32,
   "metadata": {},
   "outputs": [],
   "source": [
    "job_salary_df['Location'] = job_salary_df['Country'] + ' - ' + job_salary_df['location']"
   ]
  },
  {
   "cell_type": "code",
   "execution_count": 33,
   "metadata": {},
   "outputs": [],
   "source": [
    "job_salary_df.drop(columns=['Country','location'], inplace=True)"
   ]
  },
  {
   "cell_type": "markdown",
   "metadata": {},
   "source": [
    "#### *Combining Job Title and Role Column*\n",
    "#### *Details*\n",
    "* Combining Job Title Column and Role Column into Job Profile Column\n",
    "\n",
    "#### *Reasons*\n",
    "* Job Title and Role are Very Closely Related\n",
    "* Job Profile Captures Complete Specific Position Information in One Signal\n",
    "* Reduces Sparsity\n",
    "* Reduces Noise & Redundancy"
   ]
  },
  {
   "cell_type": "code",
   "execution_count": 34,
   "metadata": {},
   "outputs": [],
   "source": [
    "job_salary_df['Job Profile'] = job_salary_df['Job Title'] + ' - ' + job_salary_df['Role']"
   ]
  },
  {
   "cell_type": "code",
   "execution_count": 35,
   "metadata": {},
   "outputs": [],
   "source": [
    "job_salary_df.drop(columns=['Job Title','Role'], inplace=True)"
   ]
  },
  {
   "cell_type": "markdown",
   "metadata": {},
   "source": [
    "#### *Storing DataFrame for Visualization*"
   ]
  },
  {
   "cell_type": "code",
   "execution_count": 36,
   "metadata": {},
   "outputs": [],
   "source": [
    "job_salary_df_visualization = job_salary_df.copy()"
   ]
  },
  {
   "cell_type": "markdown",
   "metadata": {},
   "source": [
    "#### *Transforming Qualifications Column*\n",
    "#### *Details*\n",
    "* Applying One-Hot Encoding\n",
    "#### *Reasons*\n",
    "* No Natural Order in Qualifications\n",
    "* Assuming a Strict Hierarchy might Mislead the Model\n",
    "* Different Qualifications have Different Values\n",
    "* Qualifications Do not Necessarily Follows a Strict Linear Order in terms of Salary\n",
    "* The Relevance of a Qualification can depend on the Industry , the Job Role , and the Specific Company's Requirement"
   ]
  },
  {
   "cell_type": "code",
   "execution_count": 37,
   "metadata": {},
   "outputs": [
    {
     "name": "stdout",
     "output_type": "stream",
     "text": [
      "['M.Tech' 'BCA' 'PhD' 'MBA' 'MCA' 'M.Com' 'BBA' 'B.Tech' 'B.Com' 'BA']\n"
     ]
    }
   ],
   "source": [
    "print(job_salary_df[\"Qualifications\"].unique())"
   ]
  },
  {
   "cell_type": "code",
   "execution_count": 38,
   "metadata": {},
   "outputs": [],
   "source": [
    "job_salary_df = pd.get_dummies(job_salary_df, columns=['Qualifications'], prefix='Qual')\n"
   ]
  },
  {
   "cell_type": "markdown",
   "metadata": {},
   "source": [
    "#### *Transforming Location and Country*\n",
    "#### *Details*\n",
    "* Applying Target Mean Encoding on Location Column\n",
    "\n",
    "#### *Reasons*\n",
    "* Directly Encodes Relationship with Target Variable\n",
    "* Reduces High Cardinality Issues\n",
    "* Does Not Falsely Impose Order in Roles\n",
    "* Improves Model Accuracy"
   ]
  },
  {
   "cell_type": "code",
   "execution_count": 40,
   "metadata": {},
   "outputs": [],
   "source": [
    "location_mean = job_salary_df.groupby('Location')['Salary'].mean()\n",
    "\n",
    "job_salary_df['Location Encoded'] = job_salary_df['Location'].map(location_mean)"
   ]
  },
  {
   "cell_type": "code",
   "execution_count": 41,
   "metadata": {},
   "outputs": [],
   "source": [
    "job_salary_df.drop(columns=['Location'], inplace=True)"
   ]
  },
  {
   "cell_type": "markdown",
   "metadata": {},
   "source": [
    "#### *Transforming Work Type Column*\n",
    "#### *Details*\n",
    "* Applying Custom Label Encoding\n",
    "#### *Reasons*\n",
    "* Avoids Unnecessary Columns and Reduces Model Complexity\n",
    "* Captures Ordinal Relationship"
   ]
  },
  {
   "cell_type": "code",
   "execution_count": 42,
   "metadata": {},
   "outputs": [
    {
     "name": "stdout",
     "output_type": "stream",
     "text": [
      "['Intern' 'Temporary' 'Full-Time' 'Contract' 'Part-Time']\n"
     ]
    }
   ],
   "source": [
    "print(job_salary_df[\"Work Type\"].unique())"
   ]
  },
  {
   "cell_type": "code",
   "execution_count": 43,
   "metadata": {},
   "outputs": [],
   "source": [
    "work_type_mapping = {\n",
    "    'Intern': 0,\n",
    "    'Part-Time': 1,\n",
    "    'Temporary': 2,\n",
    "    'Contract': 3,\n",
    "    'Full-Time': 4\n",
    "}\n",
    "\n",
    "# Apply Custom Label Encoding\n",
    "job_salary_df['Work Type'] = job_salary_df['Work Type'].map(work_type_mapping)"
   ]
  },
  {
   "cell_type": "markdown",
   "metadata": {},
   "source": [
    "#### *Transforming Preference Column*\n",
    "#### *Details*\n",
    "* Applying Label Encoding\n",
    "#### *Reasons*\n",
    "* Low Cardinality as Preference Column contains only 3 Unique Categories\n",
    "* Avoids Unnecessary Columns and Reduces Model Complexity\n",
    "* Captures Ordinal Relationship\n",
    "* Faster Computation"
   ]
  },
  {
   "cell_type": "code",
   "execution_count": 44,
   "metadata": {},
   "outputs": [
    {
     "name": "stdout",
     "output_type": "stream",
     "text": [
      "['Female' 'Male' 'Both']\n"
     ]
    }
   ],
   "source": [
    "print(job_salary_df[\"Preference\"].unique())"
   ]
  },
  {
   "cell_type": "code",
   "execution_count": 45,
   "metadata": {},
   "outputs": [],
   "source": [
    "job_salary_df['Preference'] = le.fit_transform(job_salary_df['Preference'])"
   ]
  },
  {
   "cell_type": "markdown",
   "metadata": {},
   "source": [
    "#### *Transforming Job Title and Role Column*\n",
    "#### *Details*\n",
    "* Applying Target Mean Encoding on Job Profile\n",
    "\n",
    "#### *Reasons*\n",
    "* Directly Encodes Relationship with Target Variable\n",
    "* Reduces High Cardinality Issues\n",
    "* Does Not Falsely Impose Order in Roles\n",
    "* Improves Model Accuracy"
   ]
  },
  {
   "cell_type": "code",
   "execution_count": 46,
   "metadata": {},
   "outputs": [
    {
     "name": "stdout",
     "output_type": "stream",
     "text": [
      "376\n"
     ]
    }
   ],
   "source": [
    "print(job_salary_df[\"Job Profile\"].nunique())"
   ]
  },
  {
   "cell_type": "code",
   "execution_count": 47,
   "metadata": {},
   "outputs": [],
   "source": [
    "role_salary_mean = job_salary_df.groupby('Job Profile')['Salary'].mean()\n",
    "\n",
    "job_salary_df['Job Profile Encoded'] = job_salary_df['Job Profile'].map(role_salary_mean)"
   ]
  },
  {
   "cell_type": "code",
   "execution_count": 48,
   "metadata": {},
   "outputs": [],
   "source": [
    "job_salary_df.drop(columns=['Job Profile'], inplace=True)"
   ]
  },
  {
   "cell_type": "markdown",
   "metadata": {},
   "source": [
    "#### *Transforming Benefits Column*\n",
    "#### *Details*\n",
    "* Applying One-Hot Encoding\n",
    "#### *Reasons*\n",
    "* No Natural Order in Qualifications\n",
    "* Total Distinct Benefits are Limited\n",
    "* Benefits are Not Ordinal. So, Cannot Apply Label Encoding\n",
    "* Model Can Learn the Effect of each Benefit Separately which Improves Accuracy"
   ]
  },
  {
   "cell_type": "code",
   "execution_count": 49,
   "metadata": {},
   "outputs": [
    {
     "name": "stdout",
     "output_type": "stream",
     "text": [
      "11\n"
     ]
    }
   ],
   "source": [
    "print(job_salary_df[\"Benefits\"].nunique())"
   ]
  },
  {
   "cell_type": "code",
   "execution_count": 50,
   "metadata": {},
   "outputs": [],
   "source": [
    "job_salary_df['Benefits List'] = job_salary_df['Benefits'].apply(lambda x: [b.strip() for b in x.strip('{}').split(',')])\n",
    "\n",
    "# Apply Binarizer\n",
    "benefits_encoded = mlb.fit_transform(job_salary_df['Benefits List'])\n",
    "\n",
    "# Create DataFrame of encoded benefits\n",
    "benefits_df = pd.DataFrame(benefits_encoded, columns=[f'Benefit_{b}' for b in mlb.classes_])\n",
    "\n",
    "# Concatenate back to original DataFrame\n",
    "job_salary_df = pd.concat([job_salary_df, benefits_df], axis=1)\n",
    "\n",
    "#  Drop Original Benefits columns\n",
    "job_salary_df.drop(['Benefits', 'Benefits List'], axis=1, inplace=True)"
   ]
  },
  {
   "cell_type": "markdown",
   "metadata": {},
   "source": [
    "#### *Transforming Company Column*\n",
    "#### *Details*\n",
    "* Applying Target Mean Encoding\n",
    "#### *Reasons*\n",
    "* Encoding is Applied After Saving DataFrame for Visualization \n",
    "* Directly Encodes Relationship with Target Variable\n",
    "* Reduces High Cardinality Issues\n",
    "* Does Not Falsely Impose Order in Companies\n",
    "* Improves Model Accuracy"
   ]
  },
  {
   "cell_type": "code",
   "execution_count": 51,
   "metadata": {},
   "outputs": [
    {
     "name": "stdout",
     "output_type": "stream",
     "text": [
      "888\n"
     ]
    }
   ],
   "source": [
    "print(job_salary_df[\"Company\"].nunique())"
   ]
  },
  {
   "cell_type": "code",
   "execution_count": 52,
   "metadata": {},
   "outputs": [],
   "source": [
    "company_salary_mean = job_salary_df.groupby('Company')['Salary'].mean()\n",
    "\n",
    "job_salary_df['Company Encoded'] = job_salary_df['Company'].map(company_salary_mean)"
   ]
  },
  {
   "cell_type": "code",
   "execution_count": 53,
   "metadata": {},
   "outputs": [],
   "source": [
    "job_salary_df.drop('Company', axis=1, inplace=True)"
   ]
  },
  {
   "cell_type": "markdown",
   "metadata": {},
   "source": [
    "### ***Handling Outliers***"
   ]
  },
  {
   "cell_type": "code",
   "execution_count": 60,
   "metadata": {},
   "outputs": [
    {
     "data": {
      "text/plain": [
       "Text(0.5, 1.0, 'Box Plot of Company Size')"
      ]
     },
     "execution_count": 60,
     "metadata": {},
     "output_type": "execute_result"
    },
    {
     "data": {
      "image/png": "[encoded data removed]",
      "text/plain": [
       "<Figure size 1400x600 with 1 Axes>"
      ]
     },
     "metadata": {},
     "output_type": "display_data"
    }
   ],
   "source": [
    "plt.figure(figsize=(14, 6))\n",
    "\n",
    "# Boxplot for Company Size\n",
    "plt.subplot(1, 2, 1)\n",
    "sns.boxplot(y=job_salary_df['Company Size'], color='skyblue')\n",
    "plt.title('Box Plot of Company Size')"
   ]
  },
  {
   "cell_type": "markdown",
   "metadata": {},
   "source": [
    "#### *No Outliers in Company Size*"
   ]
  },
  {
   "cell_type": "code",
   "execution_count": 62,
   "metadata": {},
   "outputs": [
    {
     "data": {
      "image/png": "[encoded data removed]",
      "text/plain": [
       "<Figure size 1400x600 with 1 Axes>"
      ]
     },
     "metadata": {},
     "output_type": "display_data"
    }
   ],
   "source": [
    "plt.figure(figsize=(14, 6))\n",
    "\n",
    "plt.subplot(1, 2, 1)\n",
    "sns.boxplot(y=job_salary_df['Salary'], color='lightgreen')\n",
    "plt.title('Box Plot of Salary')\n",
    "\n",
    "plt.show()"
   ]
  },
  {
   "cell_type": "markdown",
   "metadata": {},
   "source": [
    "#### *No Outliers in Salary*"
   ]
  },
  {
   "cell_type": "markdown",
   "metadata": {},
   "source": [
    "### ***Dataset Overview After Cleaning and Transformation***"
   ]
  },
  {
   "cell_type": "code",
   "execution_count": null,
   "metadata": {},
   "outputs": [
    {
     "data": {
      "text/html": [
       "<div>\n",
       "<style scoped>\n",
       "    .dataframe tbody tr th:only-of-type {\n",
       "        vertical-align: middle;\n",
       "    }\n",
       "\n",
       "    .dataframe tbody tr th {\n",
       "        vertical-align: top;\n",
       "    }\n",
       "\n",
       "    .dataframe thead th {\n",
       "        text-align: right;\n",
       "    }\n",
       "</style>\n",
       "<table border=\"1\" class=\"dataframe\">\n",
       "  <thead>\n",
       "    <tr style=\"text-align: right;\">\n",
       "      <th></th>\n",
       "      <th>Company Size</th>\n",
       "      <th>Min Experience</th>\n",
       "      <th>Max Experience</th>\n",
       "      <th>Salary</th>\n",
       "      <th>Job Post Age (Days)</th>\n",
       "      <th>Job Posting Year</th>\n",
       "    </tr>\n",
       "  </thead>\n",
       "  <tbody>\n",
       "    <tr>\n",
       "      <th>count</th>\n",
       "      <td>1.048575e+06</td>\n",
       "      <td>1.048575e+06</td>\n",
       "      <td>1.048575e+06</td>\n",
       "      <td>1.048575e+06</td>\n",
       "      <td>1.048575e+06</td>\n",
       "      <td>1.048575e+06</td>\n",
       "    </tr>\n",
       "    <tr>\n",
       "      <th>mean</th>\n",
       "      <td>7.370591e+04</td>\n",
       "      <td>2.501410e+00</td>\n",
       "      <td>1.149676e+01</td>\n",
       "      <td>8.249193e+04</td>\n",
       "      <td>9.259160e+02</td>\n",
       "      <td>2.022206e+03</td>\n",
       "    </tr>\n",
       "    <tr>\n",
       "      <th>std</th>\n",
       "      <td>3.530437e+04</td>\n",
       "      <td>1.708398e+00</td>\n",
       "      <td>2.291408e+00</td>\n",
       "      <td>7.528770e+03</td>\n",
       "      <td>2.111549e+02</td>\n",
       "      <td>6.774980e-01</td>\n",
       "    </tr>\n",
       "    <tr>\n",
       "      <th>min</th>\n",
       "      <td>1.264600e+04</td>\n",
       "      <td>0.000000e+00</td>\n",
       "      <td>8.000000e+00</td>\n",
       "      <td>6.750000e+04</td>\n",
       "      <td>5.610000e+02</td>\n",
       "      <td>2.021000e+03</td>\n",
       "    </tr>\n",
       "    <tr>\n",
       "      <th>25%</th>\n",
       "      <td>4.312100e+04</td>\n",
       "      <td>1.000000e+00</td>\n",
       "      <td>9.000000e+00</td>\n",
       "      <td>7.600000e+04</td>\n",
       "      <td>7.430000e+02</td>\n",
       "      <td>2.022000e+03</td>\n",
       "    </tr>\n",
       "    <tr>\n",
       "      <th>50%</th>\n",
       "      <td>7.364100e+04</td>\n",
       "      <td>3.000000e+00</td>\n",
       "      <td>1.100000e+01</td>\n",
       "      <td>8.250000e+04</td>\n",
       "      <td>9.260000e+02</td>\n",
       "      <td>2.022000e+03</td>\n",
       "    </tr>\n",
       "    <tr>\n",
       "      <th>75%</th>\n",
       "      <td>1.043175e+05</td>\n",
       "      <td>4.000000e+00</td>\n",
       "      <td>1.300000e+01</td>\n",
       "      <td>8.900000e+04</td>\n",
       "      <td>1.109000e+03</td>\n",
       "      <td>2.023000e+03</td>\n",
       "    </tr>\n",
       "    <tr>\n",
       "      <th>max</th>\n",
       "      <td>1.348340e+05</td>\n",
       "      <td>5.000000e+00</td>\n",
       "      <td>1.500000e+01</td>\n",
       "      <td>9.750000e+04</td>\n",
       "      <td>1.291000e+03</td>\n",
       "      <td>2.023000e+03</td>\n",
       "    </tr>\n",
       "  </tbody>\n",
       "</table>\n",
       "</div>"
      ],
      "text/plain": [
       "       Company Size  Min Experience  Max Experience        Salary  \\\n",
       "count  1.048575e+06    1.048575e+06    1.048575e+06  1.048575e+06   \n",
       "mean   7.370591e+04    2.501410e+00    1.149676e+01  8.249193e+04   \n",
       "std    3.530437e+04    1.708398e+00    2.291408e+00  7.528770e+03   \n",
       "min    1.264600e+04    0.000000e+00    8.000000e+00  6.750000e+04   \n",
       "25%    4.312100e+04    1.000000e+00    9.000000e+00  7.600000e+04   \n",
       "50%    7.364100e+04    3.000000e+00    1.100000e+01  8.250000e+04   \n",
       "75%    1.043175e+05    4.000000e+00    1.300000e+01  8.900000e+04   \n",
       "max    1.348340e+05    5.000000e+00    1.500000e+01  9.750000e+04   \n",
       "\n",
       "       Job Post Age (Days)  Job Posting Year  \n",
       "count         1.048575e+06      1.048575e+06  \n",
       "mean          9.259160e+02      2.022206e+03  \n",
       "std           2.111549e+02      6.774980e-01  \n",
       "min           5.610000e+02      2.021000e+03  \n",
       "25%           7.430000e+02      2.022000e+03  \n",
       "50%           9.260000e+02      2.022000e+03  \n",
       "75%           1.109000e+03      2.023000e+03  \n",
       "max           1.291000e+03      2.023000e+03  "
      ]
     },
     "metadata": {},
     "output_type": "display_data"
    }
   ],
   "source": [
    "job_salary_df_visualization.describe()"
   ]
  },
  {
   "cell_type": "code",
   "execution_count": 63,
   "metadata": {},
   "outputs": [
    {
     "data": {
      "text/html": [
       "<div>\n",
       "<style scoped>\n",
       "    .dataframe tbody tr th:only-of-type {\n",
       "        vertical-align: middle;\n",
       "    }\n",
       "\n",
       "    .dataframe tbody tr th {\n",
       "        vertical-align: top;\n",
       "    }\n",
       "\n",
       "    .dataframe thead th {\n",
       "        text-align: right;\n",
       "    }\n",
       "</style>\n",
       "<table border=\"1\" class=\"dataframe\">\n",
       "  <thead>\n",
       "    <tr style=\"text-align: right;\">\n",
       "      <th></th>\n",
       "      <th>Qualifications</th>\n",
       "      <th>Work Type</th>\n",
       "      <th>Company Size</th>\n",
       "      <th>Preference</th>\n",
       "      <th>Benefits</th>\n",
       "      <th>Company</th>\n",
       "      <th>Min Experience</th>\n",
       "      <th>Max Experience</th>\n",
       "      <th>Salary</th>\n",
       "      <th>Job Post Age (Days)</th>\n",
       "      <th>Job Posting Year</th>\n",
       "      <th>Location</th>\n",
       "      <th>Job Profile</th>\n",
       "    </tr>\n",
       "  </thead>\n",
       "  <tbody>\n",
       "    <tr>\n",
       "      <th>0</th>\n",
       "      <td>M.Tech</td>\n",
       "      <td>Intern</td>\n",
       "      <td>26801</td>\n",
       "      <td>Female</td>\n",
       "      <td>{'Flexible Spending Accounts (FSAs), Relocatio...</td>\n",
       "      <td>Icahn Enterprises</td>\n",
       "      <td>5</td>\n",
       "      <td>15</td>\n",
       "      <td>79000.0</td>\n",
       "      <td>1070</td>\n",
       "      <td>2022</td>\n",
       "      <td>Isle of Man - Douglas</td>\n",
       "      <td>Digital Marketing Specialist - Social Media Ma...</td>\n",
       "    </tr>\n",
       "    <tr>\n",
       "      <th>1</th>\n",
       "      <td>BCA</td>\n",
       "      <td>Intern</td>\n",
       "      <td>100340</td>\n",
       "      <td>Female</td>\n",
       "      <td>{'Health Insurance, Retirement Plans, Paid Tim...</td>\n",
       "      <td>PNC Financial Services Group</td>\n",
       "      <td>2</td>\n",
       "      <td>12</td>\n",
       "      <td>86000.0</td>\n",
       "      <td>831</td>\n",
       "      <td>2022</td>\n",
       "      <td>Turkmenistan - Ashgabat</td>\n",
       "      <td>Web Developer - Frontend Web Developer</td>\n",
       "    </tr>\n",
       "    <tr>\n",
       "      <th>2</th>\n",
       "      <td>PhD</td>\n",
       "      <td>Temporary</td>\n",
       "      <td>84525</td>\n",
       "      <td>Male</td>\n",
       "      <td>{'Legal Assistance, Bonuses and Incentive Prog...</td>\n",
       "      <td>United Services Automobile Assn.</td>\n",
       "      <td>0</td>\n",
       "      <td>12</td>\n",
       "      <td>82500.0</td>\n",
       "      <td>927</td>\n",
       "      <td>2022</td>\n",
       "      <td>Macao SAR, China - Macao</td>\n",
       "      <td>Operations Manager - Quality Control Manager</td>\n",
       "    </tr>\n",
       "    <tr>\n",
       "      <th>3</th>\n",
       "      <td>PhD</td>\n",
       "      <td>Full-Time</td>\n",
       "      <td>129896</td>\n",
       "      <td>Female</td>\n",
       "      <td>{'Transportation Benefits, Professional Develo...</td>\n",
       "      <td>Hess</td>\n",
       "      <td>4</td>\n",
       "      <td>11</td>\n",
       "      <td>78000.0</td>\n",
       "      <td>763</td>\n",
       "      <td>2023</td>\n",
       "      <td>Benin - Porto-Novo</td>\n",
       "      <td>Network Engineer - Wireless Network Engineer</td>\n",
       "    </tr>\n",
       "    <tr>\n",
       "      <th>4</th>\n",
       "      <td>MBA</td>\n",
       "      <td>Intern</td>\n",
       "      <td>53944</td>\n",
       "      <td>Female</td>\n",
       "      <td>{'Flexible Spending Accounts (FSAs), Relocatio...</td>\n",
       "      <td>Cairn Energy</td>\n",
       "      <td>1</td>\n",
       "      <td>12</td>\n",
       "      <td>75500.0</td>\n",
       "      <td>900</td>\n",
       "      <td>2022</td>\n",
       "      <td>Chile - Santiago</td>\n",
       "      <td>Event Manager - Conference Manager</td>\n",
       "    </tr>\n",
       "  </tbody>\n",
       "</table>\n",
       "</div>"
      ],
      "text/plain": [
       "  Qualifications  Work Type  Company Size Preference  \\\n",
       "0         M.Tech     Intern         26801     Female   \n",
       "1            BCA     Intern        100340     Female   \n",
       "2            PhD  Temporary         84525       Male   \n",
       "3            PhD  Full-Time        129896     Female   \n",
       "4            MBA     Intern         53944     Female   \n",
       "\n",
       "                                            Benefits  \\\n",
       "0  {'Flexible Spending Accounts (FSAs), Relocatio...   \n",
       "1  {'Health Insurance, Retirement Plans, Paid Tim...   \n",
       "2  {'Legal Assistance, Bonuses and Incentive Prog...   \n",
       "3  {'Transportation Benefits, Professional Develo...   \n",
       "4  {'Flexible Spending Accounts (FSAs), Relocatio...   \n",
       "\n",
       "                            Company  Min Experience  Max Experience   Salary  \\\n",
       "0                 Icahn Enterprises               5              15  79000.0   \n",
       "1      PNC Financial Services Group               2              12  86000.0   \n",
       "2  United Services Automobile Assn.               0              12  82500.0   \n",
       "3                              Hess               4              11  78000.0   \n",
       "4                      Cairn Energy               1              12  75500.0   \n",
       "\n",
       "   Job Post Age (Days)  Job Posting Year                  Location  \\\n",
       "0                 1070              2022     Isle of Man - Douglas   \n",
       "1                  831              2022   Turkmenistan - Ashgabat   \n",
       "2                  927              2022  Macao SAR, China - Macao   \n",
       "3                  763              2023        Benin - Porto-Novo   \n",
       "4                  900              2022          Chile - Santiago   \n",
       "\n",
       "                                         Job Profile  \n",
       "0  Digital Marketing Specialist - Social Media Ma...  \n",
       "1             Web Developer - Frontend Web Developer  \n",
       "2       Operations Manager - Quality Control Manager  \n",
       "3       Network Engineer - Wireless Network Engineer  \n",
       "4                 Event Manager - Conference Manager  "
      ]
     },
     "execution_count": 63,
     "metadata": {},
     "output_type": "execute_result"
    }
   ],
   "source": [
    "job_salary_df_visualization.head()"
   ]
  }
 ],
 "metadata": {
  "kernelspec": {
   "display_name": "Python 3",
   "language": "python",
   "name": "python3"
  },
  "language_info": {
   "codemirror_mode": {
    "name": "ipython",
    "version": 3
   },
   "file_extension": ".py",
   "mimetype": "text/x-python",
   "name": "python",
   "nbconvert_exporter": "python",
   "pygments_lexer": "ipython3",
   "version": "3.12.0"
  }
 },
 "nbformat": 4,
 "nbformat_minor": 2
}
